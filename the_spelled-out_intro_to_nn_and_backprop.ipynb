{
 "cells": [
  {
   "cell_type": "code",
   "execution_count": 5,
   "metadata": {},
   "outputs": [],
   "source": [
    "import math\n",
    "import numpy as np\n",
    "import matplotlib.pyplot as plt\n",
    "%matplotlib inline"
   ]
  },
  {
   "cell_type": "code",
   "execution_count": 6,
   "metadata": {},
   "outputs": [],
   "source": [
    "def f(x):\n",
    "    return 3*x**2 - 4*x + 5"
   ]
  },
  {
   "cell_type": "code",
   "execution_count": 7,
   "metadata": {},
   "outputs": [
    {
     "data": {
      "text/plain": [
       "20.0"
      ]
     },
     "execution_count": 7,
     "metadata": {},
     "output_type": "execute_result"
    }
   ],
   "source": [
    "f(3.0)"
   ]
  },
  {
   "cell_type": "code",
   "execution_count": 8,
   "metadata": {},
   "outputs": [
    {
     "data": {
      "text/plain": [
       "[<matplotlib.lines.Line2D at 0x132d7425348>]"
      ]
     },
     "execution_count": 8,
     "metadata": {},
     "output_type": "execute_result"
    },
    {
     "data": {
      "image/png": "[encoded data removed]",
      "text/plain": [
       "<Figure size 640x480 with 1 Axes>"
      ]
     },
     "metadata": {},
     "output_type": "display_data"
    }
   ],
   "source": [
    "xs = np.arange(-5,5,0.25)\n",
    "ys = f(xs)\n",
    "plt.plot(xs, ys)"
   ]
  },
  {
   "cell_type": "code",
   "execution_count": 11,
   "metadata": {},
   "outputs": [
    {
     "data": {
      "text/plain": [
       "14.00300000000243"
      ]
     },
     "execution_count": 11,
     "metadata": {},
     "output_type": "execute_result"
    }
   ],
   "source": [
    "h = 0.001\n",
    "x = 3.0\n",
    "(f(x+h) - f(x))/h"
   ]
  },
  {
   "cell_type": "code",
   "execution_count": 12,
   "metadata": {},
   "outputs": [
    {
     "name": "stdout",
     "output_type": "stream",
     "text": [
      "4.0\n"
     ]
    }
   ],
   "source": [
    "a=2.0\n",
    "b=-3.0\n",
    "c=10.0\n",
    "d=a*b+c\n",
    "print(d)"
   ]
  },
  {
   "cell_type": "code",
   "execution_count": 14,
   "metadata": {},
   "outputs": [
    {
     "name": "stdout",
     "output_type": "stream",
     "text": [
      "d1 4.0\n",
      "d2 3.999699999999999\n",
      "slope -3.000000000010772\n"
     ]
    }
   ],
   "source": [
    "#display the derivate of d wrt to a,b,c\n",
    "\n",
    "h = 0.0001\n",
    "\n",
    "a=2.0\n",
    "b=-3.0\n",
    "c=10.0\n",
    "\n",
    "d1 = a*b+c\n",
    "a += h\n",
    "d2 = a*b + c\n",
    "print(\"d1\", d1)\n",
    "print(\"d2\", d2)\n",
    "print(\"slope\", (d2-d1)/h)"
   ]
  },
  {
   "cell_type": "markdown",
   "metadata": {},
   "source": [
    "# Build the value object of micrograd"
   ]
  },
  {
   "cell_type": "code",
   "execution_count": 53,
   "metadata": {},
   "outputs": [
    {
     "data": {
      "text/plain": [
       "Value(data=-8.0)"
      ]
     },
     "execution_count": 53,
     "metadata": {},
     "output_type": "execute_result"
    }
   ],
   "source": [
    "class Value:\n",
    "  \n",
    "  def __init__(self, data, _children=(), _op='', label =''):\n",
    "    self.data = data\n",
    "    self.grad = 0.0\n",
    "    self._prev = set(_children)\n",
    "    self._op = _op\n",
    "    self.label = label\n",
    "\n",
    "  def __repr__(self):\n",
    "    return f\"Value(data={self.data})\"\n",
    "  \n",
    "  def __add__(self, other):\n",
    "    out = Value(self.data + other.data, (self, other), '+')\n",
    "    return out\n",
    "  \n",
    "  def __mul__(self, other):\n",
    "    out = Value(self.data * other.data, (self, other), '*')\n",
    "    return out\n",
    "  \n",
    "\n",
    "\n",
    "a = Value(2.0, label=\"a\")\n",
    "b = Value(-3.0, label=\"b\")\n",
    "c = Value(10.0, label=\"c\")\n",
    "e = a*b; e.label=\"e\"\n",
    "d = a*b+c; d.label = \"d\"\n",
    "f = Value(-2.0, label=\"f\")\n",
    "L = d*f; L.label=\"L\"\n",
    "L"
   ]
  },
  {
   "cell_type": "code",
   "execution_count": 54,
   "metadata": {},
   "outputs": [],
   "source": [
    "#Visualise\n",
    "\n",
    "from graphviz import Digraph\n",
    "\n",
    "def trace(root):\n",
    "  # builds a set of all nodes and edges in a graph\n",
    "  nodes, edges = set(), set()\n",
    "  def build(v):\n",
    "    if v not in nodes:\n",
    "      nodes.add(v)\n",
    "      for child in v._prev:\n",
    "        edges.add((child, v))\n",
    "        build(child)\n",
    "  build(root)\n",
    "  return nodes, edges\n",
    "\n",
    "def draw_dot(root):\n",
    "  dot = Digraph(format='svg', graph_attr={'rankdir': 'LR'}) # LR = left to right\n",
    "  \n",
    "  nodes, edges = trace(root)\n",
    "  for n in nodes:\n",
    "    uid = str(id(n))\n",
    "    # for any value in the graph, create a rectangular ('record') node for it\n",
    "    dot.node(name = uid, label = \"{ %s | data %.4f | grad %.4f }\" % (n.label, n.data, n.grad), shape='record')\n",
    "    if n._op:\n",
    "      # if this value is a result of some operation, create an op node for it\n",
    "      dot.node(name = uid + n._op, label = n._op)\n",
    "      # and connect this node to it\n",
    "      dot.edge(uid + n._op, uid)\n",
    "\n",
    "  for n1, n2 in edges:\n",
    "    # connect n1 to the op node of n2\n",
    "    dot.edge(str(id(n1)), str(id(n2)) + n2._op)\n",
    "\n",
    "  return dot"
   ]
  },
  {
   "cell_type": "code",
   "execution_count": 55,
   "metadata": {},
   "outputs": [
    {
     "data": {
      "image/svg+xml": "<?xml version=\"1.0\" encoding=\"UTF-8\" standalone=\"no\"?>\r\n<!DOCTYPE svg PUBLIC \"-//W3C//DTD SVG 1.1//EN\"\r\n \"http://www.w3.org/Graphics/SVG/1.1/DTD/svg11.dtd\">\r\n<!-- Generated by graphviz version 2.38.0 (20140413.2041)\r\n -->\r\n<!-- Title: %3 Pages: 1 -->\r\n<svg width=\"1157pt\" height=\"128pt\"\r\n viewBox=\"0.00 0.00 1157.00 128.00\" xmlns=\"http://www.w3.org/2000/svg\" xmlns:xlink=\"http://www.w3.org/1999/xlink\">\r\n<g id=\"graph0\" class=\"graph\" transform=\"scale(1 1) rotate(0) translate(4 124)\">\r\n<title>%3</title>\r\n<polygon fill=\"white\" stroke=\"none\" points=\"-4,4 -4,-124 1153,-124 1153,4 -4,4\"/>\r\n<!-- 1317873585288 -->\r\n<g id=\"node1\" class=\"node\"><title>1317873585288</title>\r\n<polygon fill=\"none\" stroke=\"black\" points=\"955,-54.5 955,-90.5 1149,-90.5 1149,-54.5 955,-54.5\"/>\r\n<text text-anchor=\"middle\" x=\"967.5\" y=\"-68.8\" font-family=\"Times New Roman,serif\" font-size=\"14.00\">L</text>\r\n<polyline fill=\"none\" stroke=\"black\" points=\"980,-54.5 980,-90.5 \"/>\r\n<text text-anchor=\"middle\" x=\"1023\" y=\"-68.8\" font-family=\"Times New Roman,serif\" font-size=\"14.00\">data &#45;8.0000</text>\r\n<polyline fill=\"none\" stroke=\"black\" points=\"1066,-54.5 1066,-90.5 \"/>\r\n<text text-anchor=\"middle\" x=\"1107.5\" y=\"-68.8\" font-family=\"Times New Roman,serif\" font-size=\"14.00\">grad 0.0000</text>\r\n</g>\r\n<!-- 1317873585288* -->\r\n<g id=\"node2\" class=\"node\"><title>1317873585288*</title>\r\n<ellipse fill=\"none\" stroke=\"black\" cx=\"892\" cy=\"-72.5\" rx=\"27\" ry=\"18\"/>\r\n<text text-anchor=\"middle\" x=\"892\" y=\"-68.8\" font-family=\"Times New Roman,serif\" font-size=\"14.00\">*</text>\r\n</g>\r\n<!-- 1317873585288*&#45;&gt;1317873585288 -->\r\n<g id=\"edge1\" class=\"edge\"><title>1317873585288*&#45;&gt;1317873585288</title>\r\n<path fill=\"none\" stroke=\"black\" d=\"M919.09,-72.5C926.621,-72.5 935.34,-72.5 944.635,-72.5\"/>\r\n<polygon fill=\"black\" stroke=\"black\" points=\"944.918,-76.0001 954.918,-72.5 944.918,-69.0001 944.918,-76.0001\"/>\r\n</g>\r\n<!-- 1317873583816 -->\r\n<g id=\"node3\" class=\"node\"><title>1317873583816</title>\r\n<polygon fill=\"none\" stroke=\"black\" points=\"3,-83.5 3,-119.5 190,-119.5 190,-83.5 3,-83.5\"/>\r\n<text text-anchor=\"middle\" x=\"14.5\" y=\"-97.8\" font-family=\"Times New Roman,serif\" font-size=\"14.00\">a</text>\r\n<polyline fill=\"none\" stroke=\"black\" points=\"26,-83.5 26,-119.5 \"/>\r\n<text text-anchor=\"middle\" x=\"66.5\" y=\"-97.8\" font-family=\"Times New Roman,serif\" font-size=\"14.00\">data 2.0000</text>\r\n<polyline fill=\"none\" stroke=\"black\" points=\"107,-83.5 107,-119.5 \"/>\r\n<text text-anchor=\"middle\" x=\"148.5\" y=\"-97.8\" font-family=\"Times New Roman,serif\" font-size=\"14.00\">grad 0.0000</text>\r\n</g>\r\n<!-- 1317873358728* -->\r\n<g id=\"node9\" class=\"node\"><title>1317873358728*</title>\r\n<ellipse fill=\"none\" stroke=\"black\" cx=\"256\" cy=\"-73.5\" rx=\"27\" ry=\"18\"/>\r\n<text text-anchor=\"middle\" x=\"256\" y=\"-69.8\" font-family=\"Times New Roman,serif\" font-size=\"14.00\">*</text>\r\n</g>\r\n<!-- 1317873583816&#45;&gt;1317873358728* -->\r\n<g id=\"edge7\" class=\"edge\"><title>1317873583816&#45;&gt;1317873358728*</title>\r\n<path fill=\"none\" stroke=\"black\" d=\"M190.029,-85.0503C200.521,-83.1851 210.676,-81.3798 219.718,-79.7724\"/>\r\n<polygon fill=\"black\" stroke=\"black\" points=\"220.541,-83.181 229.774,-77.9846 219.316,-76.2891 220.541,-83.181\"/>\r\n</g>\r\n<!-- 1317873585352 -->\r\n<g id=\"node4\" class=\"node\"><title>1317873585352</title>\r\n<polygon fill=\"none\" stroke=\"black\" points=\"639,-82.5 639,-118.5 829,-118.5 829,-82.5 639,-82.5\"/>\r\n<text text-anchor=\"middle\" x=\"649.5\" y=\"-96.8\" font-family=\"Times New Roman,serif\" font-size=\"14.00\">f</text>\r\n<polyline fill=\"none\" stroke=\"black\" points=\"660,-82.5 660,-118.5 \"/>\r\n<text text-anchor=\"middle\" x=\"703\" y=\"-96.8\" font-family=\"Times New Roman,serif\" font-size=\"14.00\">data &#45;2.0000</text>\r\n<polyline fill=\"none\" stroke=\"black\" points=\"746,-82.5 746,-118.5 \"/>\r\n<text text-anchor=\"middle\" x=\"787.5\" y=\"-96.8\" font-family=\"Times New Roman,serif\" font-size=\"14.00\">grad 0.0000</text>\r\n</g>\r\n<!-- 1317873585352&#45;&gt;1317873585288* -->\r\n<g id=\"edge9\" class=\"edge\"><title>1317873585352&#45;&gt;1317873585288*</title>\r\n<path fill=\"none\" stroke=\"black\" d=\"M829.345,-83.5663C838.625,-81.9007 847.581,-80.2931 855.657,-78.8436\"/>\r\n<polygon fill=\"black\" stroke=\"black\" points=\"856.495,-82.2493 865.719,-77.0376 855.258,-75.3594 856.495,-82.2493\"/>\r\n</g>\r\n<!-- 1317873583880 -->\r\n<g id=\"node5\" class=\"node\"><title>1317873583880</title>\r\n<polygon fill=\"none\" stroke=\"black\" points=\"0,-28.5 0,-64.5 193,-64.5 193,-28.5 0,-28.5\"/>\r\n<text text-anchor=\"middle\" x=\"12\" y=\"-42.8\" font-family=\"Times New Roman,serif\" font-size=\"14.00\">b</text>\r\n<polyline fill=\"none\" stroke=\"black\" points=\"24,-28.5 24,-64.5 \"/>\r\n<text text-anchor=\"middle\" x=\"67\" y=\"-42.8\" font-family=\"Times New Roman,serif\" font-size=\"14.00\">data &#45;3.0000</text>\r\n<polyline fill=\"none\" stroke=\"black\" points=\"110,-28.5 110,-64.5 \"/>\r\n<text text-anchor=\"middle\" x=\"151.5\" y=\"-42.8\" font-family=\"Times New Roman,serif\" font-size=\"14.00\">grad 0.0000</text>\r\n</g>\r\n<!-- 1317873583880&#45;&gt;1317873358728* -->\r\n<g id=\"edge8\" class=\"edge\"><title>1317873583880&#45;&gt;1317873358728*</title>\r\n<path fill=\"none\" stroke=\"black\" d=\"M193.204,-62.9064C202.52,-64.5034 211.504,-66.0435 219.599,-67.4313\"/>\r\n<polygon fill=\"black\" stroke=\"black\" points=\"219.236,-70.9201 229.684,-69.1601 220.419,-64.0207 219.236,-70.9201\"/>\r\n</g>\r\n<!-- 1317845645576 -->\r\n<g id=\"node6\" class=\"node\"><title>1317845645576</title>\r\n<polygon fill=\"none\" stroke=\"black\" points=\"640,-27.5 640,-63.5 828,-63.5 828,-27.5 640,-27.5\"/>\r\n<text text-anchor=\"middle\" x=\"652\" y=\"-41.8\" font-family=\"Times New Roman,serif\" font-size=\"14.00\">d</text>\r\n<polyline fill=\"none\" stroke=\"black\" points=\"664,-27.5 664,-63.5 \"/>\r\n<text text-anchor=\"middle\" x=\"704.5\" y=\"-41.8\" font-family=\"Times New Roman,serif\" font-size=\"14.00\">data 4.0000</text>\r\n<polyline fill=\"none\" stroke=\"black\" points=\"745,-27.5 745,-63.5 \"/>\r\n<text text-anchor=\"middle\" x=\"786.5\" y=\"-41.8\" font-family=\"Times New Roman,serif\" font-size=\"14.00\">grad 0.0000</text>\r\n</g>\r\n<!-- 1317845645576&#45;&gt;1317873585288* -->\r\n<g id=\"edge6\" class=\"edge\"><title>1317845645576&#45;&gt;1317873585288*</title>\r\n<path fill=\"none\" stroke=\"black\" d=\"M828.448,-61.6736C838.029,-63.332 847.287,-64.9342 855.61,-66.3748\"/>\r\n<polygon fill=\"black\" stroke=\"black\" points=\"855.157,-69.8484 865.608,-68.1052 856.351,-62.951 855.157,-69.8484\"/>\r\n</g>\r\n<!-- 1317845645576+ -->\r\n<g id=\"node7\" class=\"node\"><title>1317845645576+</title>\r\n<ellipse fill=\"none\" stroke=\"black\" cx=\"576\" cy=\"-45.5\" rx=\"27\" ry=\"18\"/>\r\n<text text-anchor=\"middle\" x=\"576\" y=\"-41.8\" font-family=\"Times New Roman,serif\" font-size=\"14.00\">+</text>\r\n</g>\r\n<!-- 1317845645576+&#45;&gt;1317845645576 -->\r\n<g id=\"edge2\" class=\"edge\"><title>1317845645576+&#45;&gt;1317845645576</title>\r\n<path fill=\"none\" stroke=\"black\" d=\"M603.111,-45.5C610.9,-45.5 619.953,-45.5 629.587,-45.5\"/>\r\n<polygon fill=\"black\" stroke=\"black\" points=\"629.808,-49.0001 639.808,-45.5 629.808,-42.0001 629.808,-49.0001\"/>\r\n</g>\r\n<!-- 1317873358728 -->\r\n<g id=\"node8\" class=\"node\"><title>1317873358728</title>\r\n<polygon fill=\"none\" stroke=\"black\" points=\"321.5,-55.5 321.5,-91.5 510.5,-91.5 510.5,-55.5 321.5,-55.5\"/>\r\n<text text-anchor=\"middle\" x=\"331.5\" y=\"-69.8\" font-family=\"Times New Roman,serif\" font-size=\"14.00\"> </text>\r\n<polyline fill=\"none\" stroke=\"black\" points=\"341.5,-55.5 341.5,-91.5 \"/>\r\n<text text-anchor=\"middle\" x=\"384.5\" y=\"-69.8\" font-family=\"Times New Roman,serif\" font-size=\"14.00\">data &#45;6.0000</text>\r\n<polyline fill=\"none\" stroke=\"black\" points=\"427.5,-55.5 427.5,-91.5 \"/>\r\n<text text-anchor=\"middle\" x=\"469\" y=\"-69.8\" font-family=\"Times New Roman,serif\" font-size=\"14.00\">grad 0.0000</text>\r\n</g>\r\n<!-- 1317873358728&#45;&gt;1317845645576+ -->\r\n<g id=\"edge5\" class=\"edge\"><title>1317873358728&#45;&gt;1317845645576+</title>\r\n<path fill=\"none\" stroke=\"black\" d=\"M510.735,-56.8887C521.052,-55.0605 531.021,-53.2938 539.904,-51.7195\"/>\r\n<polygon fill=\"black\" stroke=\"black\" points=\"540.554,-55.159 549.79,-49.9676 539.332,-48.2664 540.554,-55.159\"/>\r\n</g>\r\n<!-- 1317873358728*&#45;&gt;1317873358728 -->\r\n<g id=\"edge3\" class=\"edge\"><title>1317873358728*&#45;&gt;1317873358728</title>\r\n<path fill=\"none\" stroke=\"black\" d=\"M283.09,-73.5C291.327,-73.5 300.983,-73.5 311.261,-73.5\"/>\r\n<polygon fill=\"black\" stroke=\"black\" points=\"311.279,-77.0001 321.279,-73.5 311.279,-70.0001 311.279,-77.0001\"/>\r\n</g>\r\n<!-- 1317873585096 -->\r\n<g id=\"node10\" class=\"node\"><title>1317873585096</title>\r\n<polygon fill=\"none\" stroke=\"black\" points=\"319,-0.5 319,-36.5 513,-36.5 513,-0.5 319,-0.5\"/>\r\n<text text-anchor=\"middle\" x=\"330.5\" y=\"-14.8\" font-family=\"Times New Roman,serif\" font-size=\"14.00\">c</text>\r\n<polyline fill=\"none\" stroke=\"black\" points=\"342,-0.5 342,-36.5 \"/>\r\n<text text-anchor=\"middle\" x=\"386\" y=\"-14.8\" font-family=\"Times New Roman,serif\" font-size=\"14.00\">data 10.0000</text>\r\n<polyline fill=\"none\" stroke=\"black\" points=\"430,-0.5 430,-36.5 \"/>\r\n<text text-anchor=\"middle\" x=\"471.5\" y=\"-14.8\" font-family=\"Times New Roman,serif\" font-size=\"14.00\">grad 0.0000</text>\r\n</g>\r\n<!-- 1317873585096&#45;&gt;1317845645576+ -->\r\n<g id=\"edge4\" class=\"edge\"><title>1317873585096&#45;&gt;1317845645576+</title>\r\n<path fill=\"none\" stroke=\"black\" d=\"M513.008,-34.9064C522.353,-36.5034 531.366,-38.0435 539.487,-39.4313\"/>\r\n<polygon fill=\"black\" stroke=\"black\" points=\"539.157,-42.9256 549.604,-41.1601 540.336,-36.0256 539.157,-42.9256\"/>\r\n</g>\r\n</g>\r\n</svg>\r\n",
      "text/plain": [
       "<graphviz.dot.Digraph at 0x132d75cf1c8>"
      ]
     },
     "execution_count": 55,
     "metadata": {},
     "output_type": "execute_result"
    }
   ],
   "source": [
    "draw_dot(L)"
   ]
  },
  {
   "cell_type": "code",
   "execution_count": null,
   "metadata": {},
   "outputs": [],
   "source": [
    "#TODO: Continue from 32:26"
   ]
  },
  {
   "cell_type": "code",
   "execution_count": null,
   "metadata": {},
   "outputs": [],
   "source": []
  },
  {
   "cell_type": "code",
   "execution_count": null,
   "metadata": {},
   "outputs": [],
   "source": []
  },
  {
   "cell_type": "code",
   "execution_count": null,
   "metadata": {},
   "outputs": [],
   "source": []
  },
  {
   "cell_type": "code",
   "execution_count": null,
   "metadata": {},
   "outputs": [],
   "source": []
  },
  {
   "cell_type": "code",
   "execution_count": null,
   "metadata": {},
   "outputs": [],
   "source": []
  }
 ],
 "metadata": {
  "kernelspec": {
   "display_name": "Python 3.7.10 ('ml_work')",
   "language": "python",
   "name": "python3"
  },
  "language_info": {
   "codemirror_mode": {
    "name": "ipython",
    "version": 3
   },
   "file_extension": ".py",
   "mimetype": "text/x-python",
   "name": "python",
   "nbconvert_exporter": "python",
   "pygments_lexer": "ipython3",
   "version": "3.7.10"
  },
  "orig_nbformat": 4,
  "vscode": {
   "interpreter": {
    "hash": "c8e1249885d8d9b43a70199eebe28dcdbcce4e5b170188ea5e7451713f6e25f9"
   }
  }
 },
 "nbformat": 4,
 "nbformat_minor": 2
}
